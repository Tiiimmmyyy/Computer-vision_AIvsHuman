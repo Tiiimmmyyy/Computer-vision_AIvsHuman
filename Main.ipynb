{
 "cells": [
  {
   "cell_type": "code",
   "execution_count": 1,
   "id": "a24bbdc7-ca2a-4cf2-bccf-f2b2a8f49a28",
   "metadata": {},
   "outputs": [],
   "source": [
    "import matplotlib.pyplot as plt"
   ]
  },
  {
   "cell_type": "code",
   "execution_count": 1,
   "id": "af3ad423-7399-479d-b485-5168cce0ad90",
   "metadata": {},
   "outputs": [],
   "source": [
    "test2 = 1"
   ]
  },
  {
   "cell_type": "code",
   "execution_count": null,
   "id": "9e3b3dd3-1363-4429-86ef-a2f273756a78",
   "metadata": {},
   "outputs": [],
   "source": []
  },
  {
   "cell_type": "code",
   "execution_count": null,
   "id": "3464876f-6858-4f16-9000-9025d7efdfcf",
   "metadata": {},
   "outputs": [],
   "source": []
  }
 ],
 "metadata": {
  "kernelspec": {
   "display_name": "Python 3 (ipykernel)",
   "language": "python",
   "name": "python3"
  },
  "language_info": {
   "codemirror_mode": {
    "name": "ipython",
    "version": 3
   },
   "file_extension": ".py",
   "mimetype": "text/x-python",
   "name": "python",
   "nbconvert_exporter": "python",
   "pygments_lexer": "ipython3",
   "version": "3.13.1"
  }
 },
 "nbformat": 4,
 "nbformat_minor": 5
}
